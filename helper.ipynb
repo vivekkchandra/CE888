{
  "nbformat": 4,
  "nbformat_minor": 0,
  "metadata": {
    "colab": {
      "name": "Copy of Untitled2.ipynb",
      "provenance": [],
      "toc_visible": true,
      "include_colab_link": true
    },
    "kernelspec": {
      "name": "python3",
      "display_name": "Python 3"
    }
  },
  "cells": [
    {
      "cell_type": "markdown",
      "metadata": {
        "id": "view-in-github",
        "colab_type": "text"
      },
      "source": [
        "<a href=\"https://colab.research.google.com/github/vivekkchandra/CE888/blob/master/helper.ipynb\" target=\"_parent\"><img src=\"https://colab.research.google.com/assets/colab-badge.svg\" alt=\"Open In Colab\"/></a>"
      ]
    },
    {
      "cell_type": "code",
      "metadata": {
        "id": "dV8PN2Vfz2cD",
        "colab_type": "code",
        "colab": {}
      },
      "source": [
        "import pandas as pd\n",
        "import numpy as np\n",
        "from IPython.display import Image\n",
        "np.set_printoptions(precision = 3)"
      ],
      "execution_count": 0,
      "outputs": []
    },
    {
      "cell_type": "code",
      "metadata": {
        "id": "KYF9Iig20B2F",
        "colab_type": "code",
        "outputId": "bf8bfac6-c9ec-4bd6-fd77-14ea30b36413",
        "colab": {
          "base_uri": "https://localhost:8080/",
          "height": 252
        }
      },
      "source": [
        "#Upload file in sample_data folder\n",
        "df = pd.read_csv('jester-data-1.csv', header=None)\n",
        "print(df)"
      ],
      "execution_count": 3,
      "outputs": [
        {
          "output_type": "stream",
          "text": [
            "       0      1      2      3      4    ...    96     97     98     99     100\n",
            "0       74  -7.82   8.79  -9.66  -8.16  ...  99.00  -5.63  99.00  99.00  99.00\n",
            "1      100   4.08  -0.29   6.36   4.37  ...  -2.14   3.06   0.34  -4.32   1.07\n",
            "2       49  99.00  99.00  99.00  99.00  ...  99.00  99.00  99.00  99.00  99.00\n",
            "3       48  99.00   8.35  99.00  99.00  ...  99.00  99.00  99.00  99.00  99.00\n",
            "4       91   8.50   4.61  -4.17  -5.39  ...   1.55   3.11   6.55   1.80   1.60\n",
            "...    ...    ...    ...    ...    ...  ...    ...    ...    ...    ...    ...\n",
            "24978  100   0.44   7.43   9.08   2.33  ...   9.03   6.55   8.69   8.79   7.43\n",
            "24979   91   9.13  -8.16   8.59   9.08  ...  -8.20  -7.23  -8.59   9.13   8.45\n",
            "24980   39  99.00  99.00  99.00  99.00  ...  99.00  99.00  99.00  99.00  99.00\n",
            "24981   37  99.00  99.00  99.00  99.00  ...  99.00  99.00  99.00  99.00  99.00\n",
            "24982   72   2.43   2.67  -3.98   4.27  ...  99.00  99.00  99.00  99.00  99.00\n",
            "\n",
            "[24983 rows x 101 columns]\n"
          ],
          "name": "stdout"
        }
      ]
    },
    {
      "cell_type": "code",
      "metadata": {
        "id": "GbWdS47V0KmZ",
        "colab_type": "code",
        "outputId": "421e4c07-358b-46f3-9dc2-b2313b29976a",
        "colab": {
          "base_uri": "https://localhost:8080/",
          "height": 151
        }
      },
      "source": [
        "array = df.values\n",
        "print(array.shape)\n",
        "print(array)"
      ],
      "execution_count": 5,
      "outputs": [
        {
          "output_type": "stream",
          "text": [
            "(24983, 101)\n",
            "[[ 74.    -7.82   8.79 ...  99.    99.    99.  ]\n",
            " [100.     4.08  -0.29 ...   0.34  -4.32   1.07]\n",
            " [ 49.    99.    99.   ...  99.    99.    99.  ]\n",
            " ...\n",
            " [ 39.    99.    99.   ...  99.    99.    99.  ]\n",
            " [ 37.    99.    99.   ...  99.    99.    99.  ]\n",
            " [ 72.     2.43   2.67 ...  99.    99.    99.  ]]\n"
          ],
          "name": "stdout"
        }
      ]
    },
    {
      "cell_type": "code",
      "metadata": {
        "id": "DUaoGwDd0My2",
        "colab_type": "code",
        "outputId": "b00b330e-c05b-4fa2-dae8-2f32d2f659b7",
        "colab": {
          "base_uri": "https://localhost:8080/",
          "height": 50
        }
      },
      "source": [
        "rate = np.where(array !=99)\n",
        "print(rate)\n",
        "print(len(rate[0]), rate[1].shape)"
      ],
      "execution_count": 8,
      "outputs": [
        {
          "output_type": "stream",
          "text": [
            "(array([    0,     0,     0, ..., 24982, 24982, 24982]), array([ 0,  1,  2, ..., 70, 71, 87]))\n",
            "1835357 (1835357,)\n"
          ],
          "name": "stdout"
        }
      ]
    },
    {
      "cell_type": "code",
      "metadata": {
        "id": "zKU9H4j5NNM8",
        "colab_type": "code",
        "outputId": "0aaf73d0-99a1-4c21-a514-b81d530f2789",
        "colab": {
          "base_uri": "https://localhost:8080/",
          "height": 34
        }
      },
      "source": [
        "a1=([[4, 5, 6],\n",
        "    [7, 5, 9]])\n",
        "np.where(a1 == 5)"
      ],
      "execution_count": 9,
      "outputs": [
        {
          "output_type": "execute_result",
          "data": {
            "text/plain": [
              "(array([], dtype=int64),)"
            ]
          },
          "metadata": {
            "tags": []
          },
          "execution_count": 9
        }
      ]
    },
    {
      "cell_type": "code",
      "metadata": {
        "id": "r9IWlvFB0d0r",
        "colab_type": "code",
        "colab": {}
      },
      "source": [
        "def replace(orig, percentage=0.1):\n",
        "  new_data = orig.copy()\n",
        "  rate = np.where(array!=99)\n",
        "  n_rate = len(rate[0])\n",
        "  idx = np.random.choice(n_rate, size=int(percentage*n_rate), replace=False)\n",
        "  new_data[rate[0][idx], rate[1][idx]] = 99\n",
        "  return new_data, (rate[0][idx], rate[1][idx])"
      ],
      "execution_count": 0,
      "outputs": []
    },
    {
      "cell_type": "code",
      "metadata": {
        "id": "NI3PDwFf0ggz",
        "colab_type": "code",
        "colab": {}
      },
      "source": [
        "new_array, idx = replace(array, 0.1)"
      ],
      "execution_count": 0,
      "outputs": []
    },
    {
      "cell_type": "code",
      "metadata": {
        "id": "nRsFSfFi0xr0",
        "colab_type": "code",
        "outputId": "467cf5ec-21fa-4f8a-d5d1-9244ec2bf90b",
        "colab": {
          "base_uri": "https://localhost:8080/",
          "height": 34
        }
      },
      "source": [
        "array[idx[0][0], idx[1][0]]"
      ],
      "execution_count": 0,
      "outputs": [
        {
          "output_type": "execute_result",
          "data": {
            "text/plain": [
              "-8.98"
            ]
          },
          "metadata": {
            "tags": []
          },
          "execution_count": 16
        }
      ]
    },
    {
      "cell_type": "code",
      "metadata": {
        "id": "ivEhwXoz0zSq",
        "colab_type": "code",
        "outputId": "477c9fbc-086c-48a6-e210-d035dd945f6f",
        "colab": {
          "base_uri": "https://localhost:8080/",
          "height": 34
        }
      },
      "source": [
        "new_array[idx[0][0], idx[1][0]]"
      ],
      "execution_count": 18,
      "outputs": [
        {
          "output_type": "execute_result",
          "data": {
            "text/plain": [
              "99.0"
            ]
          },
          "metadata": {
            "tags": []
          },
          "execution_count": 18
        }
      ]
    }
  ]
}