{
  "nbformat": 4,
  "nbformat_minor": 0,
  "metadata": {
    "colab": {
      "name": "Copy of Lab_1.ipynb",
      "provenance": [],
      "include_colab_link": true
    },
    "kernelspec": {
      "name": "python3",
      "display_name": "Python 3"
    },
    "accelerator": "GPU"
  },
  "cells": [
    {
      "cell_type": "markdown",
      "metadata": {
        "id": "view-in-github",
        "colab_type": "text"
      },
      "source": [
        "<a href=\"https://colab.research.google.com/github/vivekkchandra/CE888/blob/master/Lab_1.ipynb\" target=\"_parent\"><img src=\"https://colab.research.google.com/assets/colab-badge.svg\" alt=\"Open In Colab\"/></a>"
      ]
    },
    {
      "cell_type": "markdown",
      "metadata": {
        "id": "u9rBYuqkfFZi",
        "colab_type": "text"
      },
      "source": [
        "## Introduction to Numerical Computing with Numpy and Matplotlib\n",
        "\n",
        "### What is Matplotlib\n",
        "\n",
        "Matplotlib is a Python 2D plotting library which produces publication quality figures in a variety of hardcopy formats and interactive environments across platforms. Matplotlib can be used in Python scripts, the Python and IPython shells, the Jupyter notebook, web application servers, and four graphical user interface toolkits. Matplotlib tries to make easy things easy and hard things possible. You can generate plots, histograms, power spectra, bar charts, errorcharts, scatterplots, etc., with just a few lines of code.\n",
        "![Ref: Javatpoint ](https://static.javatpoint.com/tutorial/matplotlib/images/matplotlib-data-visualization2.png)\n",
        "For more infomration: [Matplotlib Webpage](https://matplotlib.org/)\n",
        "\n",
        "#### Malplotlib Object Model\n",
        "\n",
        "![alt text](https://matplotlib.org/_images/anatomy1.png)"
      ]
    },
    {
      "cell_type": "markdown",
      "metadata": {
        "id": "Q2EQMEEphhQv",
        "colab_type": "text"
      },
      "source": [
        "#### Matplotlib State's Machine\n",
        "Matplotlib behaves like a state machine. Any command is applied to the current plotting area. "
      ]
    },
    {
      "cell_type": "code",
      "metadata": {
        "id": "OECaZLqAe07m",
        "colab_type": "code",
        "outputId": "aa8ff2af-b1b7-4fbc-9699-facb3f5011ff",
        "colab": {
          "base_uri": "https://localhost:8080/",
          "height": 544
        }
      },
      "source": [
        "import matplotlib.pyplot as plt\n",
        "import numpy as np\n",
        "\n",
        "#linspace - Return evenly spaced numbers over a specified interval\n",
        "t = np.linspace(0, 2*np.pi, 50)\n",
        "print(t)\n",
        "x = np.sin(t)\n",
        "print(x)\n",
        "y = np.cos(t)\n",
        "print(y)"
      ],
      "execution_count": 0,
      "outputs": [
        {
          "output_type": "stream",
          "text": [
            "[0.         0.12822827 0.25645654 0.38468481 0.51291309 0.64114136\n",
            " 0.76936963 0.8975979  1.02582617 1.15405444 1.28228272 1.41051099\n",
            " 1.53873926 1.66696753 1.7951958  1.92342407 2.05165235 2.17988062\n",
            " 2.30810889 2.43633716 2.56456543 2.6927937  2.82102197 2.94925025\n",
            " 3.07747852 3.20570679 3.33393506 3.46216333 3.5903916  3.71861988\n",
            " 3.84684815 3.97507642 4.10330469 4.23153296 4.35976123 4.48798951\n",
            " 4.61621778 4.74444605 4.87267432 5.00090259 5.12913086 5.25735913\n",
            " 5.38558741 5.51381568 5.64204395 5.77027222 5.89850049 6.02672876\n",
            " 6.15495704 6.28318531]\n",
            "[ 0.00000000e+00  1.27877162e-01  2.53654584e-01  3.75267005e-01\n",
            "  4.90717552e-01  5.98110530e-01  6.95682551e-01  7.81831482e-01\n",
            "  8.55142763e-01  9.14412623e-01  9.58667853e-01  9.87181783e-01\n",
            "  9.99486216e-01  9.95379113e-01  9.74927912e-01  9.38468422e-01\n",
            "  8.86599306e-01  8.20172255e-01  7.40277997e-01  6.48228395e-01\n",
            "  5.45534901e-01  4.33883739e-01  3.15108218e-01  1.91158629e-01\n",
            "  6.40702200e-02 -6.40702200e-02 -1.91158629e-01 -3.15108218e-01\n",
            " -4.33883739e-01 -5.45534901e-01 -6.48228395e-01 -7.40277997e-01\n",
            " -8.20172255e-01 -8.86599306e-01 -9.38468422e-01 -9.74927912e-01\n",
            " -9.95379113e-01 -9.99486216e-01 -9.87181783e-01 -9.58667853e-01\n",
            " -9.14412623e-01 -8.55142763e-01 -7.81831482e-01 -6.95682551e-01\n",
            " -5.98110530e-01 -4.90717552e-01 -3.75267005e-01 -2.53654584e-01\n",
            " -1.27877162e-01 -2.44929360e-16]\n",
            "[ 1.          0.99179001  0.96729486  0.92691676  0.8713187   0.80141362\n",
            "  0.71834935  0.6234898   0.51839257  0.40478334  0.28452759  0.1595999\n",
            "  0.03205158 -0.09602303 -0.22252093 -0.34536505 -0.46253829 -0.57211666\n",
            " -0.67230089 -0.76144596 -0.8380881  -0.90096887 -0.94905575 -0.98155916\n",
            " -0.99794539 -0.99794539 -0.98155916 -0.94905575 -0.90096887 -0.8380881\n",
            " -0.76144596 -0.67230089 -0.57211666 -0.46253829 -0.34536505 -0.22252093\n",
            " -0.09602303  0.03205158  0.1595999   0.28452759  0.40478334  0.51839257\n",
            "  0.6234898   0.71834935  0.80141362  0.8713187   0.92691676  0.96729486\n",
            "  0.99179001  1.        ]\n"
          ],
          "name": "stdout"
        }
      ]
    },
    {
      "cell_type": "code",
      "metadata": {
        "id": "eo8NGcByiCrg",
        "colab_type": "code",
        "outputId": "e7430733-1c51-4992-c8be-921cfbb45cfd",
        "colab": {
          "base_uri": "https://localhost:8080/",
          "height": 282
        }
      },
      "source": [
        "# Now create a figure - creates an empty plot\n",
        "plt.figure()\n",
        "# and plot x inside it\n",
        "plt.plot(x)"
      ],
      "execution_count": 0,
      "outputs": [
        {
          "output_type": "execute_result",
          "data": {
            "text/plain": [
              "[<matplotlib.lines.Line2D at 0x7fb069b25f60>]"
            ]
          },
          "metadata": {
            "tags": []
          },
          "execution_count": 5
        },
        {
          "output_type": "display_data",
          "data": {
            "image/png": "[encoded data removed]",
            "text/plain": [
              "<Figure size 432x288 with 1 Axes>"
            ]
          },
          "metadata": {
            "tags": []
          }
        }
      ]
    },
    {
      "cell_type": "code",
      "metadata": {
        "id": "_zB4dMJLiNaw",
        "colab_type": "code",
        "outputId": "6c2ee4ff-caa0-4620-9e97-122be93d0bc7",
        "colab": {
          "base_uri": "https://localhost:8080/",
          "height": 298
        }
      },
      "source": [
        "# Now create a new figure\n",
        "plt.figure()\n",
        "# and plot y inside it...\n",
        "plt.plot(y)\n",
        "# Add a title\n",
        "plt.title(\"Cos\")"
      ],
      "execution_count": 0,
      "outputs": [
        {
          "output_type": "execute_result",
          "data": {
            "text/plain": [
              "Text(0.5, 1.0, 'Cos')"
            ]
          },
          "metadata": {
            "tags": []
          },
          "execution_count": 6
        },
        {
          "output_type": "display_data",
          "data": {
            "image/png": "[encoded data removed]",
            "text/plain": [
              "<Figure size 432x288 with 1 Axes>"
            ]
          },
          "metadata": {
            "tags": []
          }
        }
      ]
    },
    {
      "cell_type": "markdown",
      "metadata": {
        "id": "EIqiAerCilvv",
        "colab_type": "text"
      },
      "source": [
        "### Line Plot"
      ]
    },
    {
      "cell_type": "code",
      "metadata": {
        "id": "Ufz8Q830ijqy",
        "colab_type": "code",
        "outputId": "a126f0f9-90b8-4beb-d39e-440930bfcf72",
        "colab": {
          "base_uri": "https://localhost:8080/",
          "height": 282
        }
      },
      "source": [
        "x = np.linspace(0, 2*np.pi, 50)\n",
        "y1 = np.sin(x)\n",
        "y2 = np.sin(2*x)\n",
        "plt.figure() # Create figure\n",
        "plt.plot(y1)\n",
        "plt.plot(x, y1)\n",
        "\n",
        "# red dot-dash circle\n",
        "plt.plot(x, y1, 'r')\n",
        "\n",
        "# red marker only circle\n",
        "plt.plot(x, y1, 'r-o')\n",
        "\n",
        "# clear figure then plot 2 curves\n",
        "plt.clf()\n",
        "#plot x vs y1 in green with circles and x vs y2 in blue with plus\n",
        "plt.plot(x, y1, 'g-o', x, y2, 'b-+')\n",
        "plt.legend(['sin(x)','sin(2x)'])\n",
        "#not : legend is in sync with the plot\n",
        "\n"
      ],
      "execution_count": 0,
      "outputs": [
        {
          "output_type": "execute_result",
          "data": {
            "text/plain": [
              "<matplotlib.legend.Legend at 0x7fb069535588>"
            ]
          },
          "metadata": {
            "tags": []
          },
          "execution_count": 7
        },
        {
          "output_type": "display_data",
          "data": {
            "image/png": "[encoded data removed]",
            "text/plain": [
              "<Figure size 432x288 with 1 Axes>"
            ]
          },
          "metadata": {
            "tags": []
          }
        }
      ]
    },
    {
      "cell_type": "markdown",
      "metadata": {
        "id": "tEqnyiLnj-oX",
        "colab_type": "text"
      },
      "source": [
        "### Scatter Plot \n"
      ]
    },
    {
      "cell_type": "code",
      "metadata": {
        "id": "E4545t4pj8mo",
        "colab_type": "code",
        "outputId": "d57d3243-231b-4170-8d50-b3945a5d9a7f",
        "colab": {
          "base_uri": "https://localhost:8080/",
          "height": 298
        }
      },
      "source": [
        "N = 50 # no. of points\n",
        "x = np.linspace(0, 10, N)\n",
        "#print(x)\n",
        "from numpy.random import rand\n",
        "e = rand(N)*5.0 # noise\n",
        "y1 = x + e\n",
        "areas = rand(N)*300\n",
        "plt.scatter(x, y1, s=areas)\n",
        "colors = rand(N)\n",
        "plt.scatter(x, y1, s=areas,c=colors)\n",
        "plt.colorbar()\n",
        "plt.title(\"Random scatter\")\n"
      ],
      "execution_count": 0,
      "outputs": [
        {
          "output_type": "execute_result",
          "data": {
            "text/plain": [
              "Text(0.5, 1.0, 'Random scatter')"
            ]
          },
          "metadata": {
            "tags": []
          },
          "execution_count": 9
        },
        {
          "output_type": "display_data",
          "data": {
            "image/png": "[encoded data removed]",
            "text/plain": [
              "<Figure size 432x288 with 2 Axes>"
            ]
          },
          "metadata": {
            "tags": []
          }
        }
      ]
    },
    {
      "cell_type": "markdown",
      "metadata": {
        "id": "eYKeyHYglP_r",
        "colab_type": "text"
      },
      "source": [
        "### Image Plot: Correlation Plot"
      ]
    },
    {
      "cell_type": "code",
      "metadata": {
        "id": "7mhFfKMOlYb0",
        "colab_type": "code",
        "outputId": "66a57fc0-4a98-401a-f4d0-494e0c85d4a2",
        "colab": {
          "base_uri": "https://localhost:8080/",
          "height": 354
        }
      },
      "source": [
        "# Create some data\n",
        "e1 = rand(100)\n",
        "e2 = rand(100)*2\n",
        "e3 = rand(100)*50\n",
        "e4 = rand(100)*100\n",
        "corrmatrix = np.corrcoef([e1, e2, e3, e4])\n",
        "print(corrmatrix)\n",
        "# Plot corr matrix as image\n",
        "plt.imshow(corrmatrix, cmap='GnBu')\n",
        "plt.colorbar()"
      ],
      "execution_count": 0,
      "outputs": [
        {
          "output_type": "stream",
          "text": [
            "[[ 1.          0.05236887  0.11125676  0.15604855]\n",
            " [ 0.05236887  1.          0.05976948 -0.08351951]\n",
            " [ 0.11125676  0.05976948  1.         -0.14506885]\n",
            " [ 0.15604855 -0.08351951 -0.14506885  1.        ]]\n"
          ],
          "name": "stdout"
        },
        {
          "output_type": "execute_result",
          "data": {
            "text/plain": [
              "<matplotlib.colorbar.Colorbar at 0x7fb066bfa048>"
            ]
          },
          "metadata": {
            "tags": []
          },
          "execution_count": 10
        },
        {
          "output_type": "display_data",
          "data": {
            "image/png": "[encoded data removed]",
            "text/plain": [
              "<Figure size 432x288 with 2 Axes>"
            ]
          },
          "metadata": {
            "tags": []
          }
        }
      ]
    },
    {
      "cell_type": "markdown",
      "metadata": {
        "id": "dRmo6yZWmkt_",
        "colab_type": "text"
      },
      "source": [
        "### Multiple plots using subplot"
      ]
    },
    {
      "cell_type": "code",
      "metadata": {
        "id": "Ahcz1LKUmvPr",
        "colab_type": "code",
        "outputId": "a8ba0471-3476-491f-fae0-db425736e86d",
        "colab": {
          "base_uri": "https://localhost:8080/",
          "height": 282
        }
      },
      "source": [
        "t = np.linspace(0, 2*np.pi)\n",
        "x = np.sin(t)\n",
        "y = np.cos(t)\n",
        "# To divide the plotting area\n",
        "plt.subplot(2, 1, 1)\n",
        "plt.plot(x)\n",
        "# Now activate a new plot\n",
        "# area.\n",
        "plt.subplot(2, 1, 2)\n",
        "plt.plot(y)"
      ],
      "execution_count": 0,
      "outputs": [
        {
          "output_type": "execute_result",
          "data": {
            "text/plain": [
              "[<matplotlib.lines.Line2D at 0x7fb066be0d68>]"
            ]
          },
          "metadata": {
            "tags": []
          },
          "execution_count": 11
        },
        {
          "output_type": "display_data",
          "data": {
            "image/png": "[encoded data removed]",
            "text/plain": [
              "<Figure size 432x288 with 2 Axes>"
            ]
          },
          "metadata": {
            "tags": []
          }
        }
      ]
    },
    {
      "cell_type": "markdown",
      "metadata": {
        "id": "36ev2RH0nMe2",
        "colab_type": "text"
      },
      "source": [
        "### Histogram plot"
      ]
    },
    {
      "cell_type": "code",
      "metadata": {
        "id": "lWJfHc4hnK9r",
        "colab_type": "code",
        "outputId": "a39e9239-335e-4a13-eb3c-88de3e6c0f04",
        "colab": {
          "base_uri": "https://localhost:8080/",
          "height": 350
        }
      },
      "source": [
        "# Create array of data\n",
        "from numpy.random import randint\n",
        "data = randint(10000, size=(10,1000))\n",
        "# Approx norm distribution\n",
        "x = np.sum(data, axis=0)\n",
        "# Set up for stacked plots\n",
        "plt.subplot(2,1,1)\n",
        "plt.hist(x, color='r')\n",
        "# Plot cumulative dist\n",
        "plt.subplot(2,1,2)\n",
        "plt.hist(x, cumulative=True)"
      ],
      "execution_count": 0,
      "outputs": [
        {
          "output_type": "execute_result",
          "data": {
            "text/plain": [
              "(array([  12.,   59.,  169.,  355.,  621.,  830.,  943.,  986.,  995.,\n",
              "        1000.]),\n",
              " array([23431. , 29226.7, 35022.4, 40818.1, 46613.8, 52409.5, 58205.2,\n",
              "        64000.9, 69796.6, 75592.3, 81388. ]),\n",
              " <a list of 10 Patch objects>)"
            ]
          },
          "metadata": {
            "tags": []
          },
          "execution_count": 12
        },
        {
          "output_type": "display_data",
          "data": {
            "image/png": "[encoded data removed]",
            "text/plain": [
              "<Figure size 432x288 with 2 Axes>"
            ]
          },
          "metadata": {
            "tags": []
          }
        }
      ]
    },
    {
      "cell_type": "markdown",
      "metadata": {
        "id": "He7rHWDrn3GO",
        "colab_type": "text"
      },
      "source": [
        "### Legend, Title, and Label Axis"
      ]
    },
    {
      "cell_type": "code",
      "metadata": {
        "id": "Nnn50-1Ln9ef",
        "colab_type": "code",
        "outputId": "3358504f-5df9-4cd0-f695-0a0f058320c3",
        "colab": {
          "base_uri": "https://localhost:8080/",
          "height": 282
        }
      },
      "source": [
        "# Add labels in plot command.\n",
        "plt.plot(np.sin(t), label='sin')\n",
        "plt.plot(np.cos(t), label='cos')\n",
        "plt.legend()"
      ],
      "execution_count": 0,
      "outputs": [
        {
          "output_type": "execute_result",
          "data": {
            "text/plain": [
              "<matplotlib.legend.Legend at 0x7fb066a5fe48>"
            ]
          },
          "metadata": {
            "tags": []
          },
          "execution_count": 13
        },
        {
          "output_type": "display_data",
          "data": {
            "image/png": "[encoded data removed]",
            "text/plain": [
              "<Figure size 432x288 with 1 Axes>"
            ]
          },
          "metadata": {
            "tags": []
          }
        }
      ]
    },
    {
      "cell_type": "code",
      "metadata": {
        "id": "o2QXAZ4zoI9p",
        "colab_type": "code",
        "outputId": "21ccff3e-93f8-4f3b-c896-1494ed2e64d8",
        "colab": {
          "base_uri": "https://localhost:8080/",
          "height": 312
        }
      },
      "source": [
        "plt.plot(t, np.sin(t))\n",
        "plt.xlabel('radians')\n",
        "# Keywords set text properties.\n",
        "plt.ylabel('amplitude',fontsize='large')\n",
        "plt.title('Sin(x)')"
      ],
      "execution_count": 0,
      "outputs": [
        {
          "output_type": "execute_result",
          "data": {
            "text/plain": [
              "Text(0.5, 1.0, 'Sin(x)')"
            ]
          },
          "metadata": {
            "tags": []
          },
          "execution_count": 14
        },
        {
          "output_type": "display_data",
          "data": {
            "image/png": "[encoded data removed]",
            "text/plain": [
              "<Figure size 432x288 with 1 Axes>"
            ]
          },
          "metadata": {
            "tags": []
          }
        }
      ]
    },
    {
      "cell_type": "markdown",
      "metadata": {
        "id": "yRdzCbrVojNI",
        "colab_type": "text"
      },
      "source": [
        "#### Other Visualization Libraries: \n",
        "\n",
        "**Seaborn**:  Better looking, high-level, plot-based on matplotlib [Seaborn](https://seaborn.pydata.org/)\n",
        "\n",
        "**Bokeh**: D3 like visulization in web browser [Bokeh](https://github.com/bokeh/bokeh)\n"
      ]
    },
    {
      "cell_type": "markdown",
      "metadata": {
        "id": "DZz7nrjeqBVb",
        "colab_type": "text"
      },
      "source": [
        "## NumPy Array\n",
        "\n",
        "Numpy is the core library for scientific computing in Python. It provides a high-performance multidimensional array object, and tools for working with these arrays. A numpy array is a grid of values, all of the same type, and is indexed by a tuple of nonnegative integers. The number of dimensions is the rank of the array; the shape of an array is a tuple of integers giving the size of the array along each dimension.\n",
        "\n",
        "The Python core library provided Lists. A list is the Python equivalent of an array, but is resizeable and can contain elements of different types.\n",
        "\n",
        "**Why NumPy array**?\n",
        "\n",
        "Size - Numpy data structures take up less space\n",
        "Performance - they have a need for speed and are faster than lists\n",
        "Functionality - SciPy and NumPy have optimized functions such as linear algebra operations built in.\n",
        "\n",
        "\n",
        "#### Introducing NumPy Array\n",
        "\n",
        "\n"
      ]
    },
    {
      "cell_type": "code",
      "metadata": {
        "id": "APvlYZXzwdbC",
        "colab_type": "code",
        "outputId": "1c195f18-13e2-4c35-84e6-aa5e9f6507f8",
        "colab": {
          "base_uri": "https://localhost:8080/",
          "height": 102
        }
      },
      "source": [
        "import numpy as np\n",
        "\n",
        "# Simple array creation\n",
        "a = np.array([[0, 1, 2, 3, 4, 5],\n",
        "              [4, 5, 4, 5, 4, 6]])\n",
        "print(a)\n",
        "print(\"\\n\")\n",
        "b=np.array([1,2,3,4,5])\n",
        "print(b)"
      ],
      "execution_count": 0,
      "outputs": [
        {
          "output_type": "stream",
          "text": [
            "[[0 1 2 3 4 5]\n",
            " [4 5 4 5 4 6]]\n",
            "\n",
            "\n",
            "[1 2 3 4 5]\n"
          ],
          "name": "stdout"
        }
      ]
    },
    {
      "cell_type": "code",
      "metadata": {
        "id": "nNo9IyREwnDR",
        "colab_type": "code",
        "outputId": "0f26682f-18aa-4f90-91fa-1c08d5b9d76e",
        "colab": {
          "base_uri": "https://localhost:8080/",
          "height": 85
        }
      },
      "source": [
        "# Checking the type and type of elements\n",
        "print(type(a))\n",
        "print(a.dtype)\n",
        "print(type(b))\n",
        "print(b.dtype)"
      ],
      "execution_count": 0,
      "outputs": [
        {
          "output_type": "stream",
          "text": [
            "<class 'numpy.ndarray'>\n",
            "int64\n",
            "<class 'numpy.ndarray'>\n",
            "int64\n"
          ],
          "name": "stdout"
        }
      ]
    },
    {
      "cell_type": "code",
      "metadata": {
        "id": "V_uPUZC-xArO",
        "colab_type": "code",
        "outputId": "e8aba3f2-d34a-4896-c6d5-3ba5cb3343e3",
        "colab": {
          "base_uri": "https://localhost:8080/",
          "height": 85
        }
      },
      "source": [
        "# Check dimensions and shape\n",
        "print(a.ndim) # gives the number of rows\n",
        "print(a.shape) # gives the number of columns\n",
        "print(b.ndim)\n",
        "print(b.shape)"
      ],
      "execution_count": 0,
      "outputs": [
        {
          "output_type": "stream",
          "text": [
            "2\n",
            "(2, 6)\n",
            "1\n",
            "(5,)\n"
          ],
          "name": "stdout"
        }
      ]
    },
    {
      "cell_type": "code",
      "metadata": {
        "id": "glOQteJPxL1q",
        "colab_type": "code",
        "outputId": "df985fbe-8d60-4996-c1ea-1efc7fc93933",
        "colab": {
          "base_uri": "https://localhost:8080/",
          "height": 51
        }
      },
      "source": [
        "# Check Bytes per element and Bytes of memory use\n",
        "print(a.itemsize)\n",
        "print(a.nbytes)"
      ],
      "execution_count": 0,
      "outputs": [
        {
          "output_type": "stream",
          "text": [
            "8\n",
            "96\n"
          ],
          "name": "stdout"
        }
      ]
    },
    {
      "cell_type": "markdown",
      "metadata": {
        "id": "O7xzeIWdxy-9",
        "colab_type": "text"
      },
      "source": [
        "#### Array Operations"
      ]
    },
    {
      "cell_type": "code",
      "metadata": {
        "id": "N_aWdYftx1iL",
        "colab_type": "code",
        "outputId": "f0425243-c256-4be7-c697-fd05e396104e",
        "colab": {
          "base_uri": "https://localhost:8080/",
          "height": 85
        }
      },
      "source": [
        "c = np.array([1, 2, 3, 4])\n",
        "d = np.array([2, 3, 4, 5])\n",
        "\n",
        "print(c*d)\n",
        "print(c**d)\n",
        "print(c+d)\n",
        "print(c/d)"
      ],
      "execution_count": 0,
      "outputs": [
        {
          "output_type": "stream",
          "text": [
            "[ 2  6 12 20]\n",
            "[   1    8   81 1024]\n",
            "[3 5 7 9]\n",
            "[0.5        0.66666667 0.75       0.8       ]\n"
          ],
          "name": "stdout"
        }
      ]
    },
    {
      "cell_type": "code",
      "metadata": {
        "id": "_uA3AT0RyjPv",
        "colab_type": "code",
        "outputId": "700433d2-7f19-4507-e6dc-12b532dd8c6d",
        "colab": {
          "base_uri": "https://localhost:8080/",
          "height": 119
        }
      },
      "source": [
        "# Setting array elements\n",
        "print(a[0])\n",
        "#a[0] = [10,32,24,41] : ValueError: cannot copy sequence with size 4 to array axis with dimension 6\n",
        "a[0] = [10,32,24,41,3,4]\n",
        "print(a[0])\n",
        "print(a)\n",
        "print(a.ndim) # gives the number of rows\n",
        "print(a.shape) # gives the number of columns"
      ],
      "execution_count": 0,
      "outputs": [
        {
          "output_type": "stream",
          "text": [
            "[0 1 2 3 4 5]\n",
            "[10 32 24 41  3  4]\n",
            "[[10 32 24 41  3  4]\n",
            " [ 4  5  4  5  4  6]]\n",
            "2\n",
            "(2, 6)\n"
          ],
          "name": "stdout"
        }
      ]
    },
    {
      "cell_type": "code",
      "metadata": {
        "id": "a94VoeIny30D",
        "colab_type": "code",
        "outputId": "1dbf45e8-d1d6-4841-d971-40f67bf1788b",
        "colab": {
          "base_uri": "https://localhost:8080/",
          "height": 51
        }
      },
      "source": [
        "# Multi-dimensional array\n",
        "\n",
        "a_m = np.array([[ 0, 1, 2, 3],\n",
        "              [10,11,12,13]])\n",
        "print(a_m)"
      ],
      "execution_count": 0,
      "outputs": [
        {
          "output_type": "stream",
          "text": [
            "[[ 0  1  2  3]\n",
            " [10 11 12 13]]\n"
          ],
          "name": "stdout"
        }
      ]
    },
    {
      "cell_type": "code",
      "metadata": {
        "id": "lmCwIR1jy-1Q",
        "colab_type": "code",
        "outputId": "aee021d6-737d-4fd4-e095-22b1a03e83b7",
        "colab": {
          "base_uri": "https://localhost:8080/",
          "height": 68
        }
      },
      "source": [
        "print(a_m.shape)\n",
        "print(a_m.size)\n",
        "print(a_m.ndim)"
      ],
      "execution_count": 0,
      "outputs": [
        {
          "output_type": "stream",
          "text": [
            "(2, 4)\n",
            "8\n",
            "2\n"
          ],
          "name": "stdout"
        }
      ]
    },
    {
      "cell_type": "code",
      "metadata": {
        "id": "a-xnWSjVzP0z",
        "colab_type": "code",
        "outputId": "66e0ceeb-2b05-48c5-bd94-46f3718bb07d",
        "colab": {
          "base_uri": "https://localhost:8080/",
          "height": 51
        }
      },
      "source": [
        "# Get and set elements in Multi-dimensional array\n",
        "print(a[1, 3])\n",
        "a[1, 3] = -1\n",
        "print(a[1, 3])"
      ],
      "execution_count": 0,
      "outputs": [
        {
          "output_type": "stream",
          "text": [
            "5\n",
            "-1\n"
          ],
          "name": "stdout"
        }
      ]
    },
    {
      "cell_type": "code",
      "metadata": {
        "id": "ICn13beyzhLW",
        "colab_type": "code",
        "outputId": "0652af2c-08b8-483f-8658-65bd9010958a",
        "colab": {
          "base_uri": "https://localhost:8080/",
          "height": 34
        }
      },
      "source": [
        "print(a[1])"
      ],
      "execution_count": 0,
      "outputs": [
        {
          "output_type": "stream",
          "text": [
            "[ 4  5  4 -1  4  6]\n"
          ],
          "name": "stdout"
        }
      ]
    },
    {
      "cell_type": "markdown",
      "metadata": {
        "id": "DMk5FPVD1CK0",
        "colab_type": "text"
      },
      "source": [
        "#### Slicing array\n",
        "\n",
        "![Slicing array](https://scipy-lectures.org/_images/numpy_indexing.png)"
      ]
    },
    {
      "cell_type": "code",
      "metadata": {
        "id": "s_F3padj1Pcp",
        "colab_type": "code",
        "outputId": "4bff4de8-1333-4506-a3b7-5f009dcb17da",
        "colab": {
          "base_uri": "https://localhost:8080/",
          "height": 153
        }
      },
      "source": [
        "# Slicing array\n",
        "print(a)\n",
        "\n",
        "# print all row and 3rd column\n",
        "print(a[:,2])\n",
        "\n",
        "# print first row and all column \n",
        "print(a[0,:])\n",
        "\n",
        "# negative indices work also\n",
        "print(a)\n",
        "print(a[:,:-2])"
      ],
      "execution_count": 0,
      "outputs": [
        {
          "output_type": "stream",
          "text": [
            "[[10 32 24 41  3  4]\n",
            " [ 4  5  4 -1  4  6]]\n",
            "[24  4]\n",
            "[10 32 24 41  3  4]\n",
            "[[10 32 24 41  3  4]\n",
            " [ 4  5  4 -1  4  6]]\n",
            "[[10 32 24 41]\n",
            " [ 4  5  4 -1]]\n"
          ],
          "name": "stdout"
        }
      ]
    },
    {
      "cell_type": "markdown",
      "metadata": {
        "id": "6X-TO_KR1mjo",
        "colab_type": "text"
      },
      "source": [
        "## Questions to be done during the lab:\n",
        "\n",
        "1. Create a (4 x 2) integer array and print it's attributes\n",
        "\n",
        "2. Create an array of dimension (1,10) and sort it in ascending and descending order\n",
        "\n",
        "3. Convert an 1D array [1 2 3 4 5 6 7 8 9] to 2D array [[1 2 3], [4 5 6], [7 8 9]]\n",
        "\n",
        "4. Stack two arrays of any size horizontally and vertically\n",
        "\n",
        "5. Create two array of same size and find commom elements\n",
        "\n",
        "6. Create a 2D array of 5 by 5 and find the min and max values from each row and each column\n",
        "\n",
        "7. Create an array of size 100 and  compute the mean, median, standard deviation. \n",
        "\n",
        "8. Normalize a 5x5 random matrix \n",
        "\n",
        "9. Consider an array of dimension (4,4,3), how to mulitply it by an array with dimensions (4,4)?\n",
        "\n"
      ]
    },
    {
      "cell_type": "code",
      "metadata": {
        "id": "XqD-fZdnAiK0",
        "colab_type": "code",
        "outputId": "8c206055-57b2-4d83-81c3-44b9babf1ed8",
        "colab": {
          "base_uri": "https://localhost:8080/",
          "height": 170
        }
      },
      "source": [
        "#Create a (4 x 2) integer array and print it's attributes\n",
        "\n",
        "test_array=np.array([[0,1],\n",
        "                    [2,3],\n",
        "                    [4,5],\n",
        "                    [6,7]])\n",
        "print(test_array)\n",
        "\n",
        "#attributes\n",
        "\n",
        "print(\"\\nFollowing are the attributes:\")\n",
        "\n",
        "print(\"Number of Rows : \",test_array.ndim)\n",
        "print(\"Size of the array :\",test_array.shape)\n",
        "print(\"Data type of values :\",test_array.dtype)"
      ],
      "execution_count": 0,
      "outputs": [
        {
          "output_type": "stream",
          "text": [
            "[[0 1]\n",
            " [2 3]\n",
            " [4 5]\n",
            " [6 7]]\n",
            "\n",
            "Following are the attributes:\n",
            "Number of Rows :  2\n",
            "Size of the array : (4, 2)\n",
            "Data type of values : int64\n"
          ],
          "name": "stdout"
        }
      ]
    },
    {
      "cell_type": "code",
      "metadata": {
        "id": "9AbJP2cjAuGo",
        "colab_type": "code",
        "outputId": "51d829f0-20c1-4795-b986-90e8046e1f31",
        "colab": {
          "base_uri": "https://localhost:8080/",
          "height": 51
        }
      },
      "source": [
        "#Create an array of dimension (1,10) and sort it in ascending and descending order\n",
        "\n",
        "test_array1=np.array([3,45,6,2,0,45,-1,44,46,2])\n",
        "\n",
        "print(\"Ascending order : \", np.sort(test_array1))\n",
        "print(\"Descending order : \", -np.sort(-test_array1))"
      ],
      "execution_count": 0,
      "outputs": [
        {
          "output_type": "stream",
          "text": [
            "Ascending order :  [-1  0  2  2  3  6 44 45 45 46]\n",
            "Descending order :  [46 45 45 44  6  3  2  2  0 -1]\n"
          ],
          "name": "stdout"
        }
      ]
    },
    {
      "cell_type": "code",
      "metadata": {
        "id": "TF2n_By-Ci6-",
        "colab_type": "code",
        "outputId": "98882750-cc83-42ed-8aa2-1e6d0d906166",
        "colab": {
          "base_uri": "https://localhost:8080/",
          "height": 68
        }
      },
      "source": [
        "#Convert an 1D array [1 2 3 4 5 6 7 8 9] to 2D array [[1 2 3], [4 5 6], [7 8 9]]\n",
        "array_1D=np.array([1,2,3,4,5,6,7,8,9])\n",
        "array_2D=np.hsplit(array_1D,3)\n",
        "print(np.asarray(array_2D))"
      ],
      "execution_count": 0,
      "outputs": [
        {
          "output_type": "stream",
          "text": [
            "[[1 2 3]\n",
            " [4 5 6]\n",
            " [7 8 9]]\n"
          ],
          "name": "stdout"
        }
      ]
    },
    {
      "cell_type": "code",
      "metadata": {
        "id": "dxiTD-tmDPEO",
        "colab_type": "code",
        "outputId": "ec44dbd1-b09f-4377-c54f-44f16086126d",
        "colab": {
          "base_uri": "https://localhost:8080/",
          "height": 119
        }
      },
      "source": [
        "#Stack two arrays of any size horizontally and vertically\n",
        "\n",
        "#horizontal - it is like append\n",
        "print(\"Horizontal Stack\")\n",
        "a = np.array((1,2,3))\n",
        "b = np.array((2,3,4))\n",
        "test_hstack=np.hstack((a,b))\n",
        "print(test_hstack)\n",
        "\n",
        "print('--'*10)\n",
        "\n",
        "#horizontal - it is like a box, stack each corresponding columns; it will append the same i values and then the next and so on\n",
        "c = np.array([[1],[2],[3]])\n",
        "d = np.array([[2],[3],[4]])\n",
        "test_hstack1=np.hstack((c,d))\n",
        "print(test_hstack1)"
      ],
      "execution_count": 0,
      "outputs": [
        {
          "output_type": "stream",
          "text": [
            "Horizontal Stack\n",
            "[1 2 3 2 3 4]\n",
            "--------------------\n",
            "[[1 2]\n",
            " [2 3]\n",
            " [3 4]]\n"
          ],
          "name": "stdout"
        }
      ]
    },
    {
      "cell_type": "code",
      "metadata": {
        "id": "l6-USjwnE7-s",
        "colab_type": "code",
        "outputId": "7527a70e-546c-4435-a4bc-7ec4349fe0cc",
        "colab": {
          "base_uri": "https://localhost:8080/",
          "height": 187
        }
      },
      "source": [
        "#Stack two arrays of any size horizontally and vertically\n",
        "#vertical - it is like append but in a next a line\n",
        "print(\"Vertical Stack\")\n",
        "test_vstack=np.vstack((a,b))\n",
        "print(test_vstack)\n",
        "\n",
        "print('--'*10)\n",
        "\n",
        "#vertical - it is like a box stack each element one by one after another, so it will append the same i values and then the next and so on but in a next line\n",
        "test_vstack1=np.vstack((c,d))\n",
        "print(test_vstack1)"
      ],
      "execution_count": 0,
      "outputs": [
        {
          "output_type": "stream",
          "text": [
            "Vertical Stack\n",
            "[[1 2 3]\n",
            " [2 3 4]]\n",
            "--------------------\n",
            "[[1]\n",
            " [2]\n",
            " [3]\n",
            " [2]\n",
            " [3]\n",
            " [4]]\n"
          ],
          "name": "stdout"
        }
      ]
    },
    {
      "cell_type": "code",
      "metadata": {
        "id": "2RAMMOYcF-J9",
        "colab_type": "code",
        "outputId": "0f22af28-f78a-440b-ece2-c45437613f52",
        "colab": {
          "base_uri": "https://localhost:8080/",
          "height": 34
        }
      },
      "source": [
        "#Create two array of same size and find commom elements\n",
        "test_array3=np.array([[0,1],\n",
        "                    [2,3],\n",
        "                    [4,5],\n",
        "                    [6,7]])\n",
        "\n",
        "test_array4=np.array([[5,6],\n",
        "                    [2,3],\n",
        "                    [45,78],\n",
        "                    [7,7]])\n",
        "\n",
        "common=np.isin(test_array3,test_array4)\n",
        "#common is a boolean array which follows the index of the first input parameter, so while printing arrayname[common] will print the values where common is True\n",
        "print(test_array3[common])\n"
      ],
      "execution_count": 0,
      "outputs": [
        {
          "output_type": "stream",
          "text": [
            "[2 3 5 6 7]\n"
          ],
          "name": "stdout"
        }
      ]
    },
    {
      "cell_type": "code",
      "metadata": {
        "id": "U8m0BBDIIRtr",
        "colab_type": "code",
        "outputId": "6a40af7f-393b-447b-c425-9548f97d1032",
        "colab": {
          "base_uri": "https://localhost:8080/",
          "height": 170
        }
      },
      "source": [
        "#Create a 2D array of 5 by 5 and find the min and max values from each row and each column\n",
        "test_array5D=np.random.randint(1,10, (5,5))\n",
        "print(test_array5D)\n",
        "minInColumns = np.amin(test_array5D, axis=0)\n",
        "print(\"Minimum in Columns : \", minInColumns)\n",
        "maxInColumns = np.amax(test_array5D, axis=0)\n",
        "print(\"Maximum in Columns : \", maxInColumns)\n",
        "minInRows = np.amin(test_array5D, axis=1)\n",
        "print(\"Minimum in Rows : \", minInRows)\n",
        "maxInRows = np.amax(test_array5D, axis=1)\n",
        "print(\"Maximum in Rows : \", maxInRows)"
      ],
      "execution_count": 0,
      "outputs": [
        {
          "output_type": "stream",
          "text": [
            "[[5 7 5 2 3]\n",
            " [4 8 7 2 3]\n",
            " [5 7 7 4 5]\n",
            " [5 5 8 1 2]\n",
            " [6 2 4 3 7]]\n",
            "Minimum in Columns :  [4 2 4 1 2]\n",
            "Maximum in Columns :  [6 8 8 4 7]\n",
            "Minimum in Rows :  [2 2 4 1 2]\n",
            "Maximum in Rows :  [7 8 7 8 7]\n"
          ],
          "name": "stdout"
        }
      ]
    },
    {
      "cell_type": "code",
      "metadata": {
        "id": "kr8_NVatP8Vl",
        "colab_type": "code",
        "outputId": "5102ec08-837c-46f2-a4b4-4511e48f3172",
        "colab": {
          "base_uri": "https://localhost:8080/",
          "height": 153
        }
      },
      "source": [
        "#Create an array of size 100 and compute the mean, median, standard deviation.\n",
        "test_array100=np.random.randint(1,100,100)\n",
        "print(test_array100)\n",
        "print(np.mean(test_array100))\n",
        "print(np.std(test_array100))\n",
        "print(np.median(test_array100))"
      ],
      "execution_count": 0,
      "outputs": [
        {
          "output_type": "stream",
          "text": [
            "[21 36 96 10 69 87 86 20 85 39 14 66 39 91 87 94 69 31 92 55 50 35 12 90\n",
            " 13 48 31 21 14 73  4 73 91 56 60 29 25 72  8 66 22 22 78 50 28 55 22 60\n",
            " 26 98 57 70 56 17 71 11 19 24 16 98 92 14 94 41  3 16  3 96 33 73 82 73\n",
            " 37 31 44 15 69 37 85 22 53 80 23 26 89 83 71 13 86 96 24 70 28 41 75 49\n",
            " 51 83 71 20]\n",
            "50.5\n",
            "29.041521998683194\n",
            "50.0\n"
          ],
          "name": "stdout"
        }
      ]
    },
    {
      "cell_type": "code",
      "metadata": {
        "id": "wEOLFC4DQU-K",
        "colab_type": "code",
        "outputId": "a95761fc-0d44-466c-a1e9-bc05ad0625d4",
        "colab": {
          "base_uri": "https://localhost:8080/",
          "height": 187
        }
      },
      "source": [
        "#Normalize a 5x5 random matrix\n",
        "test_arr=np.random.randint(1,10,(5,5))\n",
        "print(test_arr)\n",
        "from sklearn.preprocessing import normalize\n",
        "b=normalize(test_arr)\n",
        "print(b)"
      ],
      "execution_count": 0,
      "outputs": [
        {
          "output_type": "stream",
          "text": [
            "[[7 8 3 7 8]\n",
            " [7 2 8 1 7]\n",
            " [2 5 6 8 2]\n",
            " [2 1 2 2 2]\n",
            " [8 9 7 9 4]]\n",
            "[[0.45662965 0.52186246 0.19569842 0.45662965 0.52186246]\n",
            " [0.54167626 0.15476465 0.61905859 0.07738232 0.54167626]\n",
            " [0.17342199 0.43355498 0.52026598 0.69368798 0.17342199]\n",
            " [0.48507125 0.24253563 0.48507125 0.48507125 0.48507125]\n",
            " [0.46896831 0.52758934 0.41034727 0.52758934 0.23448415]]\n"
          ],
          "name": "stdout"
        }
      ]
    },
    {
      "cell_type": "code",
      "metadata": {
        "id": "_JBvuBu-NA4t",
        "colab_type": "code",
        "outputId": "95f695fd-d36d-4fa6-9d82-a27854dec6c6",
        "colab": {
          "base_uri": "https://localhost:8080/",
          "height": 731
        }
      },
      "source": [
        "#Jorge helped\n",
        "a=np.random.randint(1,10, (4,4,3))\n",
        "print(a)\n",
        "b=np.random.randint(1,10, (4,4))\n",
        "print(b)\n",
        "#you dont multiply the 3rd index\n",
        "print(a*b[:,:,None])"
      ],
      "execution_count": 0,
      "outputs": [
        {
          "output_type": "stream",
          "text": [
            "[[[5 9 9]\n",
            "  [3 5 4]\n",
            "  [6 8 1]\n",
            "  [4 7 9]]\n",
            "\n",
            " [[4 3 9]\n",
            "  [4 6 5]\n",
            "  [4 1 2]\n",
            "  [9 2 3]]\n",
            "\n",
            " [[6 6 3]\n",
            "  [3 6 9]\n",
            "  [3 4 8]\n",
            "  [4 3 6]]\n",
            "\n",
            " [[6 1 4]\n",
            "  [8 1 2]\n",
            "  [8 4 3]\n",
            "  [8 2 6]]]\n",
            "[[6 7 3 6]\n",
            " [2 3 6 3]\n",
            " [5 7 8 8]\n",
            " [8 5 8 9]]\n",
            "[[[30 54 54]\n",
            "  [21 35 28]\n",
            "  [18 24  3]\n",
            "  [24 42 54]]\n",
            "\n",
            " [[ 8  6 18]\n",
            "  [12 18 15]\n",
            "  [24  6 12]\n",
            "  [27  6  9]]\n",
            "\n",
            " [[30 30 15]\n",
            "  [21 42 63]\n",
            "  [24 32 64]\n",
            "  [32 24 48]]\n",
            "\n",
            " [[48  8 32]\n",
            "  [40  5 10]\n",
            "  [64 32 24]\n",
            "  [72 18 54]]]\n"
          ],
          "name": "stdout"
        }
      ]
    },
    {
      "cell_type": "code",
      "metadata": {
        "id": "mfGFNshDG1To",
        "colab_type": "code",
        "colab": {}
      },
      "source": [
        ""
      ],
      "execution_count": 0,
      "outputs": []
    }
  ]
}